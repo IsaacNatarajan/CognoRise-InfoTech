{
 "cells": [
  {
   "cell_type": "code",
   "execution_count": 1,
   "id": "ede50bb7",
   "metadata": {},
   "outputs": [],
   "source": [
    "import pandas as pd\n",
    "import warnings\n",
    "\n",
    "warnings.filterwarnings('ignore', category=FutureWarning)"
   ]
  },
  {
   "cell_type": "code",
   "execution_count": 2,
   "id": "3ed29adf",
   "metadata": {},
   "outputs": [
    {
     "data": {
      "text/html": [
       "<div>\n",
       "<style scoped>\n",
       "    .dataframe tbody tr th:only-of-type {\n",
       "        vertical-align: middle;\n",
       "    }\n",
       "\n",
       "    .dataframe tbody tr th {\n",
       "        vertical-align: top;\n",
       "    }\n",
       "\n",
       "    .dataframe thead th {\n",
       "        text-align: right;\n",
       "    }\n",
       "</style>\n",
       "<table border=\"1\" class=\"dataframe\">\n",
       "  <thead>\n",
       "    <tr style=\"text-align: right;\">\n",
       "      <th></th>\n",
       "      <th>Time</th>\n",
       "      <th>V1</th>\n",
       "      <th>V2</th>\n",
       "      <th>V3</th>\n",
       "      <th>V4</th>\n",
       "      <th>V5</th>\n",
       "      <th>V6</th>\n",
       "      <th>V7</th>\n",
       "      <th>V8</th>\n",
       "      <th>V9</th>\n",
       "      <th>...</th>\n",
       "      <th>V21</th>\n",
       "      <th>V22</th>\n",
       "      <th>V23</th>\n",
       "      <th>V24</th>\n",
       "      <th>V25</th>\n",
       "      <th>V26</th>\n",
       "      <th>V27</th>\n",
       "      <th>V28</th>\n",
       "      <th>Amount</th>\n",
       "      <th>Class</th>\n",
       "    </tr>\n",
       "  </thead>\n",
       "  <tbody>\n",
       "    <tr>\n",
       "      <th>198136</th>\n",
       "      <td>132346.0</td>\n",
       "      <td>2.215098</td>\n",
       "      <td>-0.934804</td>\n",
       "      <td>-3.191176</td>\n",
       "      <td>-1.885544</td>\n",
       "      <td>2.207739</td>\n",
       "      <td>3.009802</td>\n",
       "      <td>-0.600968</td>\n",
       "      <td>0.598703</td>\n",
       "      <td>-0.733185</td>\n",
       "      <td>...</td>\n",
       "      <td>0.218877</td>\n",
       "      <td>0.619807</td>\n",
       "      <td>0.022686</td>\n",
       "      <td>0.761890</td>\n",
       "      <td>0.395857</td>\n",
       "      <td>0.023089</td>\n",
       "      <td>-0.040299</td>\n",
       "      <td>-0.081707</td>\n",
       "      <td>20.00</td>\n",
       "      <td>0</td>\n",
       "    </tr>\n",
       "    <tr>\n",
       "      <th>20311</th>\n",
       "      <td>30943.0</td>\n",
       "      <td>-1.184886</td>\n",
       "      <td>0.960830</td>\n",
       "      <td>2.412842</td>\n",
       "      <td>0.206181</td>\n",
       "      <td>-0.930076</td>\n",
       "      <td>0.075957</td>\n",
       "      <td>-0.350286</td>\n",
       "      <td>0.779667</td>\n",
       "      <td>0.146094</td>\n",
       "      <td>...</td>\n",
       "      <td>-0.001291</td>\n",
       "      <td>0.141002</td>\n",
       "      <td>-0.134795</td>\n",
       "      <td>0.421792</td>\n",
       "      <td>0.124982</td>\n",
       "      <td>0.380677</td>\n",
       "      <td>0.190730</td>\n",
       "      <td>0.070589</td>\n",
       "      <td>3.75</td>\n",
       "      <td>0</td>\n",
       "    </tr>\n",
       "    <tr>\n",
       "      <th>7918</th>\n",
       "      <td>10964.0</td>\n",
       "      <td>1.306033</td>\n",
       "      <td>0.041679</td>\n",
       "      <td>0.541095</td>\n",
       "      <td>0.121947</td>\n",
       "      <td>-0.349504</td>\n",
       "      <td>-0.341015</td>\n",
       "      <td>-0.394838</td>\n",
       "      <td>-0.199414</td>\n",
       "      <td>1.662954</td>\n",
       "      <td>...</td>\n",
       "      <td>-0.111596</td>\n",
       "      <td>-0.013752</td>\n",
       "      <td>-0.129688</td>\n",
       "      <td>-0.414891</td>\n",
       "      <td>0.347940</td>\n",
       "      <td>1.080403</td>\n",
       "      <td>-0.084821</td>\n",
       "      <td>-0.000843</td>\n",
       "      <td>15.95</td>\n",
       "      <td>0</td>\n",
       "    </tr>\n",
       "    <tr>\n",
       "      <th>88192</th>\n",
       "      <td>62025.0</td>\n",
       "      <td>-4.491378</td>\n",
       "      <td>-1.707918</td>\n",
       "      <td>-0.633186</td>\n",
       "      <td>-0.095863</td>\n",
       "      <td>-3.025772</td>\n",
       "      <td>0.867573</td>\n",
       "      <td>-0.911714</td>\n",
       "      <td>1.565428</td>\n",
       "      <td>-1.199572</td>\n",
       "      <td>...</td>\n",
       "      <td>0.341201</td>\n",
       "      <td>1.311084</td>\n",
       "      <td>0.062756</td>\n",
       "      <td>-0.146862</td>\n",
       "      <td>-0.217940</td>\n",
       "      <td>-0.002375</td>\n",
       "      <td>-0.236525</td>\n",
       "      <td>-1.064767</td>\n",
       "      <td>194.00</td>\n",
       "      <td>0</td>\n",
       "    </tr>\n",
       "    <tr>\n",
       "      <th>109001</th>\n",
       "      <td>71170.0</td>\n",
       "      <td>-0.375651</td>\n",
       "      <td>1.054918</td>\n",
       "      <td>1.363035</td>\n",
       "      <td>-0.151844</td>\n",
       "      <td>0.194448</td>\n",
       "      <td>-0.607954</td>\n",
       "      <td>0.709145</td>\n",
       "      <td>-0.048400</td>\n",
       "      <td>-0.398248</td>\n",
       "      <td>...</td>\n",
       "      <td>-0.258480</td>\n",
       "      <td>-0.666172</td>\n",
       "      <td>-0.088660</td>\n",
       "      <td>-0.127084</td>\n",
       "      <td>-0.119628</td>\n",
       "      <td>0.101335</td>\n",
       "      <td>0.266582</td>\n",
       "      <td>0.116390</td>\n",
       "      <td>1.99</td>\n",
       "      <td>0</td>\n",
       "    </tr>\n",
       "    <tr>\n",
       "      <th>87453</th>\n",
       "      <td>61690.0</td>\n",
       "      <td>1.234108</td>\n",
       "      <td>0.438771</td>\n",
       "      <td>0.464253</td>\n",
       "      <td>0.759882</td>\n",
       "      <td>-0.437442</td>\n",
       "      <td>-1.234923</td>\n",
       "      <td>0.164543</td>\n",
       "      <td>-0.284010</td>\n",
       "      <td>-0.147866</td>\n",
       "      <td>...</td>\n",
       "      <td>-0.254181</td>\n",
       "      <td>-0.684445</td>\n",
       "      <td>0.157097</td>\n",
       "      <td>0.700073</td>\n",
       "      <td>0.207927</td>\n",
       "      <td>0.070712</td>\n",
       "      <td>-0.015824</td>\n",
       "      <td>0.036369</td>\n",
       "      <td>1.79</td>\n",
       "      <td>0</td>\n",
       "    </tr>\n",
       "    <tr>\n",
       "      <th>67099</th>\n",
       "      <td>52365.0</td>\n",
       "      <td>1.202710</td>\n",
       "      <td>0.043406</td>\n",
       "      <td>0.594525</td>\n",
       "      <td>0.363534</td>\n",
       "      <td>-0.601915</td>\n",
       "      <td>-0.683113</td>\n",
       "      <td>-0.092987</td>\n",
       "      <td>-0.059956</td>\n",
       "      <td>0.095810</td>\n",
       "      <td>...</td>\n",
       "      <td>-0.178514</td>\n",
       "      <td>-0.414735</td>\n",
       "      <td>0.072184</td>\n",
       "      <td>0.577876</td>\n",
       "      <td>0.281440</td>\n",
       "      <td>0.414445</td>\n",
       "      <td>-0.044153</td>\n",
       "      <td>0.003101</td>\n",
       "      <td>4.00</td>\n",
       "      <td>0</td>\n",
       "    </tr>\n",
       "    <tr>\n",
       "      <th>122509</th>\n",
       "      <td>76591.0</td>\n",
       "      <td>-0.519064</td>\n",
       "      <td>0.762920</td>\n",
       "      <td>-0.350312</td>\n",
       "      <td>-1.092770</td>\n",
       "      <td>2.614368</td>\n",
       "      <td>3.216749</td>\n",
       "      <td>0.076134</td>\n",
       "      <td>0.899823</td>\n",
       "      <td>-0.426458</td>\n",
       "      <td>...</td>\n",
       "      <td>-0.307788</td>\n",
       "      <td>-0.998828</td>\n",
       "      <td>0.060048</td>\n",
       "      <td>0.932973</td>\n",
       "      <td>0.008337</td>\n",
       "      <td>0.079361</td>\n",
       "      <td>0.122726</td>\n",
       "      <td>0.084257</td>\n",
       "      <td>4.49</td>\n",
       "      <td>0</td>\n",
       "    </tr>\n",
       "    <tr>\n",
       "      <th>6276</th>\n",
       "      <td>7386.0</td>\n",
       "      <td>-0.588209</td>\n",
       "      <td>1.312761</td>\n",
       "      <td>2.053743</td>\n",
       "      <td>2.840814</td>\n",
       "      <td>0.679454</td>\n",
       "      <td>1.707343</td>\n",
       "      <td>0.098194</td>\n",
       "      <td>0.579236</td>\n",
       "      <td>-0.062826</td>\n",
       "      <td>...</td>\n",
       "      <td>-0.209903</td>\n",
       "      <td>-0.187785</td>\n",
       "      <td>0.210606</td>\n",
       "      <td>-0.754713</td>\n",
       "      <td>-0.821775</td>\n",
       "      <td>0.032052</td>\n",
       "      <td>0.416545</td>\n",
       "      <td>0.183879</td>\n",
       "      <td>9.50</td>\n",
       "      <td>0</td>\n",
       "    </tr>\n",
       "    <tr>\n",
       "      <th>251162</th>\n",
       "      <td>155249.0</td>\n",
       "      <td>0.051860</td>\n",
       "      <td>0.576975</td>\n",
       "      <td>0.434983</td>\n",
       "      <td>0.021547</td>\n",
       "      <td>0.127644</td>\n",
       "      <td>-0.838101</td>\n",
       "      <td>0.587540</td>\n",
       "      <td>-0.093444</td>\n",
       "      <td>0.354619</td>\n",
       "      <td>...</td>\n",
       "      <td>-0.134084</td>\n",
       "      <td>-0.358556</td>\n",
       "      <td>0.331180</td>\n",
       "      <td>-0.099705</td>\n",
       "      <td>-1.032518</td>\n",
       "      <td>-0.723911</td>\n",
       "      <td>0.175033</td>\n",
       "      <td>0.162879</td>\n",
       "      <td>58.13</td>\n",
       "      <td>0</td>\n",
       "    </tr>\n",
       "  </tbody>\n",
       "</table>\n",
       "<p>10 rows × 31 columns</p>\n",
       "</div>"
      ],
      "text/plain": [
       "            Time        V1        V2        V3        V4        V5        V6  \\\n",
       "198136  132346.0  2.215098 -0.934804 -3.191176 -1.885544  2.207739  3.009802   \n",
       "20311    30943.0 -1.184886  0.960830  2.412842  0.206181 -0.930076  0.075957   \n",
       "7918     10964.0  1.306033  0.041679  0.541095  0.121947 -0.349504 -0.341015   \n",
       "88192    62025.0 -4.491378 -1.707918 -0.633186 -0.095863 -3.025772  0.867573   \n",
       "109001   71170.0 -0.375651  1.054918  1.363035 -0.151844  0.194448 -0.607954   \n",
       "87453    61690.0  1.234108  0.438771  0.464253  0.759882 -0.437442 -1.234923   \n",
       "67099    52365.0  1.202710  0.043406  0.594525  0.363534 -0.601915 -0.683113   \n",
       "122509   76591.0 -0.519064  0.762920 -0.350312 -1.092770  2.614368  3.216749   \n",
       "6276      7386.0 -0.588209  1.312761  2.053743  2.840814  0.679454  1.707343   \n",
       "251162  155249.0  0.051860  0.576975  0.434983  0.021547  0.127644 -0.838101   \n",
       "\n",
       "              V7        V8        V9  ...       V21       V22       V23  \\\n",
       "198136 -0.600968  0.598703 -0.733185  ...  0.218877  0.619807  0.022686   \n",
       "20311  -0.350286  0.779667  0.146094  ... -0.001291  0.141002 -0.134795   \n",
       "7918   -0.394838 -0.199414  1.662954  ... -0.111596 -0.013752 -0.129688   \n",
       "88192  -0.911714  1.565428 -1.199572  ...  0.341201  1.311084  0.062756   \n",
       "109001  0.709145 -0.048400 -0.398248  ... -0.258480 -0.666172 -0.088660   \n",
       "87453   0.164543 -0.284010 -0.147866  ... -0.254181 -0.684445  0.157097   \n",
       "67099  -0.092987 -0.059956  0.095810  ... -0.178514 -0.414735  0.072184   \n",
       "122509  0.076134  0.899823 -0.426458  ... -0.307788 -0.998828  0.060048   \n",
       "6276    0.098194  0.579236 -0.062826  ... -0.209903 -0.187785  0.210606   \n",
       "251162  0.587540 -0.093444  0.354619  ... -0.134084 -0.358556  0.331180   \n",
       "\n",
       "             V24       V25       V26       V27       V28  Amount  Class  \n",
       "198136  0.761890  0.395857  0.023089 -0.040299 -0.081707   20.00      0  \n",
       "20311   0.421792  0.124982  0.380677  0.190730  0.070589    3.75      0  \n",
       "7918   -0.414891  0.347940  1.080403 -0.084821 -0.000843   15.95      0  \n",
       "88192  -0.146862 -0.217940 -0.002375 -0.236525 -1.064767  194.00      0  \n",
       "109001 -0.127084 -0.119628  0.101335  0.266582  0.116390    1.99      0  \n",
       "87453   0.700073  0.207927  0.070712 -0.015824  0.036369    1.79      0  \n",
       "67099   0.577876  0.281440  0.414445 -0.044153  0.003101    4.00      0  \n",
       "122509  0.932973  0.008337  0.079361  0.122726  0.084257    4.49      0  \n",
       "6276   -0.754713 -0.821775  0.032052  0.416545  0.183879    9.50      0  \n",
       "251162 -0.099705 -1.032518 -0.723911  0.175033  0.162879   58.13      0  \n",
       "\n",
       "[10 rows x 31 columns]"
      ]
     },
     "execution_count": 2,
     "metadata": {},
     "output_type": "execute_result"
    }
   ],
   "source": [
    "df = pd.read_csv(r\"C:\\Users\\isaac\\Downloads\\creditcard.csv\")\n",
    "df.sample(10)"
   ]
  },
  {
   "cell_type": "code",
   "execution_count": 3,
   "id": "5945ecc5",
   "metadata": {},
   "outputs": [
    {
     "data": {
      "text/plain": [
       "Time      0\n",
       "V1        0\n",
       "V2        0\n",
       "V3        0\n",
       "V4        0\n",
       "V5        0\n",
       "V6        0\n",
       "V7        0\n",
       "V8        0\n",
       "V9        0\n",
       "V10       0\n",
       "V11       0\n",
       "V12       0\n",
       "V13       0\n",
       "V14       0\n",
       "V15       0\n",
       "V16       0\n",
       "V17       0\n",
       "V18       0\n",
       "V19       0\n",
       "V20       0\n",
       "V21       0\n",
       "V22       0\n",
       "V23       0\n",
       "V24       0\n",
       "V25       0\n",
       "V26       0\n",
       "V27       0\n",
       "V28       0\n",
       "Amount    0\n",
       "Class     0\n",
       "dtype: int64"
      ]
     },
     "execution_count": 3,
     "metadata": {},
     "output_type": "execute_result"
    }
   ],
   "source": [
    "df.isnull().sum()"
   ]
  },
  {
   "cell_type": "code",
   "execution_count": 4,
   "id": "73ade164",
   "metadata": {},
   "outputs": [
    {
     "data": {
      "text/html": [
       "<div>\n",
       "<style scoped>\n",
       "    .dataframe tbody tr th:only-of-type {\n",
       "        vertical-align: middle;\n",
       "    }\n",
       "\n",
       "    .dataframe tbody tr th {\n",
       "        vertical-align: top;\n",
       "    }\n",
       "\n",
       "    .dataframe thead th {\n",
       "        text-align: right;\n",
       "    }\n",
       "</style>\n",
       "<table border=\"1\" class=\"dataframe\">\n",
       "  <thead>\n",
       "    <tr style=\"text-align: right;\">\n",
       "      <th></th>\n",
       "      <th>Time</th>\n",
       "      <th>V1</th>\n",
       "      <th>V2</th>\n",
       "      <th>V3</th>\n",
       "      <th>V4</th>\n",
       "      <th>V5</th>\n",
       "      <th>V6</th>\n",
       "      <th>V7</th>\n",
       "      <th>V8</th>\n",
       "      <th>V9</th>\n",
       "      <th>...</th>\n",
       "      <th>V21</th>\n",
       "      <th>V22</th>\n",
       "      <th>V23</th>\n",
       "      <th>V24</th>\n",
       "      <th>V25</th>\n",
       "      <th>V26</th>\n",
       "      <th>V27</th>\n",
       "      <th>V28</th>\n",
       "      <th>Amount</th>\n",
       "      <th>Class</th>\n",
       "    </tr>\n",
       "  </thead>\n",
       "  <tbody>\n",
       "    <tr>\n",
       "      <th>count</th>\n",
       "      <td>284807.000000</td>\n",
       "      <td>2.848070e+05</td>\n",
       "      <td>2.848070e+05</td>\n",
       "      <td>2.848070e+05</td>\n",
       "      <td>2.848070e+05</td>\n",
       "      <td>2.848070e+05</td>\n",
       "      <td>2.848070e+05</td>\n",
       "      <td>2.848070e+05</td>\n",
       "      <td>2.848070e+05</td>\n",
       "      <td>2.848070e+05</td>\n",
       "      <td>...</td>\n",
       "      <td>2.848070e+05</td>\n",
       "      <td>2.848070e+05</td>\n",
       "      <td>2.848070e+05</td>\n",
       "      <td>2.848070e+05</td>\n",
       "      <td>2.848070e+05</td>\n",
       "      <td>2.848070e+05</td>\n",
       "      <td>2.848070e+05</td>\n",
       "      <td>2.848070e+05</td>\n",
       "      <td>284807.000000</td>\n",
       "      <td>284807.000000</td>\n",
       "    </tr>\n",
       "    <tr>\n",
       "      <th>mean</th>\n",
       "      <td>94813.859575</td>\n",
       "      <td>3.918649e-15</td>\n",
       "      <td>5.682686e-16</td>\n",
       "      <td>-8.761736e-15</td>\n",
       "      <td>2.811118e-15</td>\n",
       "      <td>-1.552103e-15</td>\n",
       "      <td>2.040130e-15</td>\n",
       "      <td>-1.698953e-15</td>\n",
       "      <td>-1.893285e-16</td>\n",
       "      <td>-3.147640e-15</td>\n",
       "      <td>...</td>\n",
       "      <td>1.473120e-16</td>\n",
       "      <td>8.042109e-16</td>\n",
       "      <td>5.282512e-16</td>\n",
       "      <td>4.456271e-15</td>\n",
       "      <td>1.426896e-15</td>\n",
       "      <td>1.701640e-15</td>\n",
       "      <td>-3.662252e-16</td>\n",
       "      <td>-1.217809e-16</td>\n",
       "      <td>88.349619</td>\n",
       "      <td>0.001727</td>\n",
       "    </tr>\n",
       "    <tr>\n",
       "      <th>std</th>\n",
       "      <td>47488.145955</td>\n",
       "      <td>1.958696e+00</td>\n",
       "      <td>1.651309e+00</td>\n",
       "      <td>1.516255e+00</td>\n",
       "      <td>1.415869e+00</td>\n",
       "      <td>1.380247e+00</td>\n",
       "      <td>1.332271e+00</td>\n",
       "      <td>1.237094e+00</td>\n",
       "      <td>1.194353e+00</td>\n",
       "      <td>1.098632e+00</td>\n",
       "      <td>...</td>\n",
       "      <td>7.345240e-01</td>\n",
       "      <td>7.257016e-01</td>\n",
       "      <td>6.244603e-01</td>\n",
       "      <td>6.056471e-01</td>\n",
       "      <td>5.212781e-01</td>\n",
       "      <td>4.822270e-01</td>\n",
       "      <td>4.036325e-01</td>\n",
       "      <td>3.300833e-01</td>\n",
       "      <td>250.120109</td>\n",
       "      <td>0.041527</td>\n",
       "    </tr>\n",
       "    <tr>\n",
       "      <th>min</th>\n",
       "      <td>0.000000</td>\n",
       "      <td>-5.640751e+01</td>\n",
       "      <td>-7.271573e+01</td>\n",
       "      <td>-4.832559e+01</td>\n",
       "      <td>-5.683171e+00</td>\n",
       "      <td>-1.137433e+02</td>\n",
       "      <td>-2.616051e+01</td>\n",
       "      <td>-4.355724e+01</td>\n",
       "      <td>-7.321672e+01</td>\n",
       "      <td>-1.343407e+01</td>\n",
       "      <td>...</td>\n",
       "      <td>-3.483038e+01</td>\n",
       "      <td>-1.093314e+01</td>\n",
       "      <td>-4.480774e+01</td>\n",
       "      <td>-2.836627e+00</td>\n",
       "      <td>-1.029540e+01</td>\n",
       "      <td>-2.604551e+00</td>\n",
       "      <td>-2.256568e+01</td>\n",
       "      <td>-1.543008e+01</td>\n",
       "      <td>0.000000</td>\n",
       "      <td>0.000000</td>\n",
       "    </tr>\n",
       "    <tr>\n",
       "      <th>25%</th>\n",
       "      <td>54201.500000</td>\n",
       "      <td>-9.203734e-01</td>\n",
       "      <td>-5.985499e-01</td>\n",
       "      <td>-8.903648e-01</td>\n",
       "      <td>-8.486401e-01</td>\n",
       "      <td>-6.915971e-01</td>\n",
       "      <td>-7.682956e-01</td>\n",
       "      <td>-5.540759e-01</td>\n",
       "      <td>-2.086297e-01</td>\n",
       "      <td>-6.430976e-01</td>\n",
       "      <td>...</td>\n",
       "      <td>-2.283949e-01</td>\n",
       "      <td>-5.423504e-01</td>\n",
       "      <td>-1.618463e-01</td>\n",
       "      <td>-3.545861e-01</td>\n",
       "      <td>-3.171451e-01</td>\n",
       "      <td>-3.269839e-01</td>\n",
       "      <td>-7.083953e-02</td>\n",
       "      <td>-5.295979e-02</td>\n",
       "      <td>5.600000</td>\n",
       "      <td>0.000000</td>\n",
       "    </tr>\n",
       "    <tr>\n",
       "      <th>50%</th>\n",
       "      <td>84692.000000</td>\n",
       "      <td>1.810880e-02</td>\n",
       "      <td>6.548556e-02</td>\n",
       "      <td>1.798463e-01</td>\n",
       "      <td>-1.984653e-02</td>\n",
       "      <td>-5.433583e-02</td>\n",
       "      <td>-2.741871e-01</td>\n",
       "      <td>4.010308e-02</td>\n",
       "      <td>2.235804e-02</td>\n",
       "      <td>-5.142873e-02</td>\n",
       "      <td>...</td>\n",
       "      <td>-2.945017e-02</td>\n",
       "      <td>6.781943e-03</td>\n",
       "      <td>-1.119293e-02</td>\n",
       "      <td>4.097606e-02</td>\n",
       "      <td>1.659350e-02</td>\n",
       "      <td>-5.213911e-02</td>\n",
       "      <td>1.342146e-03</td>\n",
       "      <td>1.124383e-02</td>\n",
       "      <td>22.000000</td>\n",
       "      <td>0.000000</td>\n",
       "    </tr>\n",
       "    <tr>\n",
       "      <th>75%</th>\n",
       "      <td>139320.500000</td>\n",
       "      <td>1.315642e+00</td>\n",
       "      <td>8.037239e-01</td>\n",
       "      <td>1.027196e+00</td>\n",
       "      <td>7.433413e-01</td>\n",
       "      <td>6.119264e-01</td>\n",
       "      <td>3.985649e-01</td>\n",
       "      <td>5.704361e-01</td>\n",
       "      <td>3.273459e-01</td>\n",
       "      <td>5.971390e-01</td>\n",
       "      <td>...</td>\n",
       "      <td>1.863772e-01</td>\n",
       "      <td>5.285536e-01</td>\n",
       "      <td>1.476421e-01</td>\n",
       "      <td>4.395266e-01</td>\n",
       "      <td>3.507156e-01</td>\n",
       "      <td>2.409522e-01</td>\n",
       "      <td>9.104512e-02</td>\n",
       "      <td>7.827995e-02</td>\n",
       "      <td>77.165000</td>\n",
       "      <td>0.000000</td>\n",
       "    </tr>\n",
       "    <tr>\n",
       "      <th>max</th>\n",
       "      <td>172792.000000</td>\n",
       "      <td>2.454930e+00</td>\n",
       "      <td>2.205773e+01</td>\n",
       "      <td>9.382558e+00</td>\n",
       "      <td>1.687534e+01</td>\n",
       "      <td>3.480167e+01</td>\n",
       "      <td>7.330163e+01</td>\n",
       "      <td>1.205895e+02</td>\n",
       "      <td>2.000721e+01</td>\n",
       "      <td>1.559499e+01</td>\n",
       "      <td>...</td>\n",
       "      <td>2.720284e+01</td>\n",
       "      <td>1.050309e+01</td>\n",
       "      <td>2.252841e+01</td>\n",
       "      <td>4.584549e+00</td>\n",
       "      <td>7.519589e+00</td>\n",
       "      <td>3.517346e+00</td>\n",
       "      <td>3.161220e+01</td>\n",
       "      <td>3.384781e+01</td>\n",
       "      <td>25691.160000</td>\n",
       "      <td>1.000000</td>\n",
       "    </tr>\n",
       "  </tbody>\n",
       "</table>\n",
       "<p>8 rows × 31 columns</p>\n",
       "</div>"
      ],
      "text/plain": [
       "                Time            V1            V2            V3            V4  \\\n",
       "count  284807.000000  2.848070e+05  2.848070e+05  2.848070e+05  2.848070e+05   \n",
       "mean    94813.859575  3.918649e-15  5.682686e-16 -8.761736e-15  2.811118e-15   \n",
       "std     47488.145955  1.958696e+00  1.651309e+00  1.516255e+00  1.415869e+00   \n",
       "min         0.000000 -5.640751e+01 -7.271573e+01 -4.832559e+01 -5.683171e+00   \n",
       "25%     54201.500000 -9.203734e-01 -5.985499e-01 -8.903648e-01 -8.486401e-01   \n",
       "50%     84692.000000  1.810880e-02  6.548556e-02  1.798463e-01 -1.984653e-02   \n",
       "75%    139320.500000  1.315642e+00  8.037239e-01  1.027196e+00  7.433413e-01   \n",
       "max    172792.000000  2.454930e+00  2.205773e+01  9.382558e+00  1.687534e+01   \n",
       "\n",
       "                 V5            V6            V7            V8            V9  \\\n",
       "count  2.848070e+05  2.848070e+05  2.848070e+05  2.848070e+05  2.848070e+05   \n",
       "mean  -1.552103e-15  2.040130e-15 -1.698953e-15 -1.893285e-16 -3.147640e-15   \n",
       "std    1.380247e+00  1.332271e+00  1.237094e+00  1.194353e+00  1.098632e+00   \n",
       "min   -1.137433e+02 -2.616051e+01 -4.355724e+01 -7.321672e+01 -1.343407e+01   \n",
       "25%   -6.915971e-01 -7.682956e-01 -5.540759e-01 -2.086297e-01 -6.430976e-01   \n",
       "50%   -5.433583e-02 -2.741871e-01  4.010308e-02  2.235804e-02 -5.142873e-02   \n",
       "75%    6.119264e-01  3.985649e-01  5.704361e-01  3.273459e-01  5.971390e-01   \n",
       "max    3.480167e+01  7.330163e+01  1.205895e+02  2.000721e+01  1.559499e+01   \n",
       "\n",
       "       ...           V21           V22           V23           V24  \\\n",
       "count  ...  2.848070e+05  2.848070e+05  2.848070e+05  2.848070e+05   \n",
       "mean   ...  1.473120e-16  8.042109e-16  5.282512e-16  4.456271e-15   \n",
       "std    ...  7.345240e-01  7.257016e-01  6.244603e-01  6.056471e-01   \n",
       "min    ... -3.483038e+01 -1.093314e+01 -4.480774e+01 -2.836627e+00   \n",
       "25%    ... -2.283949e-01 -5.423504e-01 -1.618463e-01 -3.545861e-01   \n",
       "50%    ... -2.945017e-02  6.781943e-03 -1.119293e-02  4.097606e-02   \n",
       "75%    ...  1.863772e-01  5.285536e-01  1.476421e-01  4.395266e-01   \n",
       "max    ...  2.720284e+01  1.050309e+01  2.252841e+01  4.584549e+00   \n",
       "\n",
       "                V25           V26           V27           V28         Amount  \\\n",
       "count  2.848070e+05  2.848070e+05  2.848070e+05  2.848070e+05  284807.000000   \n",
       "mean   1.426896e-15  1.701640e-15 -3.662252e-16 -1.217809e-16      88.349619   \n",
       "std    5.212781e-01  4.822270e-01  4.036325e-01  3.300833e-01     250.120109   \n",
       "min   -1.029540e+01 -2.604551e+00 -2.256568e+01 -1.543008e+01       0.000000   \n",
       "25%   -3.171451e-01 -3.269839e-01 -7.083953e-02 -5.295979e-02       5.600000   \n",
       "50%    1.659350e-02 -5.213911e-02  1.342146e-03  1.124383e-02      22.000000   \n",
       "75%    3.507156e-01  2.409522e-01  9.104512e-02  7.827995e-02      77.165000   \n",
       "max    7.519589e+00  3.517346e+00  3.161220e+01  3.384781e+01   25691.160000   \n",
       "\n",
       "               Class  \n",
       "count  284807.000000  \n",
       "mean        0.001727  \n",
       "std         0.041527  \n",
       "min         0.000000  \n",
       "25%         0.000000  \n",
       "50%         0.000000  \n",
       "75%         0.000000  \n",
       "max         1.000000  \n",
       "\n",
       "[8 rows x 31 columns]"
      ]
     },
     "execution_count": 4,
     "metadata": {},
     "output_type": "execute_result"
    }
   ],
   "source": [
    "df.describe()"
   ]
  },
  {
   "cell_type": "code",
   "execution_count": 5,
   "id": "cd2d6daa",
   "metadata": {},
   "outputs": [
    {
     "data": {
      "text/plain": [
       "array([0.00000e+00, 1.00000e+00, 2.00000e+00, ..., 1.72787e+05,\n",
       "       1.72788e+05, 1.72792e+05])"
      ]
     },
     "execution_count": 5,
     "metadata": {},
     "output_type": "execute_result"
    }
   ],
   "source": [
    "df['Time'].unique()"
   ]
  },
  {
   "cell_type": "code",
   "execution_count": 6,
   "id": "5ccc27b8",
   "metadata": {},
   "outputs": [
    {
     "data": {
      "text/plain": [
       "array([-1.35980713,  1.19185711, -1.35835406, ...,  1.91956501,\n",
       "       -0.24044005, -0.53341252])"
      ]
     },
     "execution_count": 6,
     "metadata": {},
     "output_type": "execute_result"
    }
   ],
   "source": [
    "df['V1'].unique()"
   ]
  },
  {
   "cell_type": "code",
   "execution_count": 7,
   "id": "bbd5f0cb",
   "metadata": {},
   "outputs": [
    {
     "data": {
      "text/plain": [
       "array([149.62,   2.69, 378.66, ..., 381.05, 337.54,  95.63])"
      ]
     },
     "execution_count": 7,
     "metadata": {},
     "output_type": "execute_result"
    }
   ],
   "source": [
    "df['Amount'].unique()"
   ]
  },
  {
   "cell_type": "code",
   "execution_count": 8,
   "id": "0288cc75",
   "metadata": {},
   "outputs": [
    {
     "data": {
      "text/plain": [
       "array([0, 1], dtype=int64)"
      ]
     },
     "execution_count": 8,
     "metadata": {},
     "output_type": "execute_result"
    }
   ],
   "source": [
    "df['Class'].unique()"
   ]
  },
  {
   "cell_type": "code",
   "execution_count": 9,
   "id": "f5c177a6",
   "metadata": {},
   "outputs": [],
   "source": [
    "x=df.drop('Class',axis='columns')\n",
    "y=df['Class']"
   ]
  },
  {
   "cell_type": "code",
   "execution_count": 10,
   "id": "e1aeaeab",
   "metadata": {},
   "outputs": [],
   "source": [
    "from sklearn.preprocessing import MinMaxScaler"
   ]
  },
  {
   "cell_type": "code",
   "execution_count": 11,
   "id": "a3e33e05",
   "metadata": {},
   "outputs": [],
   "source": [
    "scaler = MinMaxScaler()\n",
    "x_scaler = scaler.fit_transform(x)"
   ]
  },
  {
   "cell_type": "code",
   "execution_count": 12,
   "id": "50c35b28",
   "metadata": {},
   "outputs": [],
   "source": [
    "from sklearn.model_selection import train_test_split"
   ]
  },
  {
   "cell_type": "code",
   "execution_count": 13,
   "id": "958aeb25",
   "metadata": {},
   "outputs": [],
   "source": [
    "x_train,x_test,y_train,y_test = train_test_split(x_scaler,y,test_size=0.2,random_state=10)"
   ]
  },
  {
   "cell_type": "code",
   "execution_count": 14,
   "id": "9d791beb",
   "metadata": {},
   "outputs": [],
   "source": [
    "from sklearn.linear_model import LogisticRegression"
   ]
  },
  {
   "cell_type": "code",
   "execution_count": 15,
   "id": "1d1c8d28",
   "metadata": {},
   "outputs": [
    {
     "data": {
      "text/plain": [
       "LogisticRegression(max_iter=1000)"
      ]
     },
     "execution_count": 15,
     "metadata": {},
     "output_type": "execute_result"
    }
   ],
   "source": [
    "model = LogisticRegression(max_iter=1000)\n",
    "model.fit(x_train,y_train)"
   ]
  },
  {
   "cell_type": "code",
   "execution_count": 16,
   "id": "20795304",
   "metadata": {},
   "outputs": [
    {
     "data": {
      "text/plain": [
       "0.9992099996488887"
      ]
     },
     "execution_count": 16,
     "metadata": {},
     "output_type": "execute_result"
    }
   ],
   "source": [
    "model.score(x_test,y_test)"
   ]
  },
  {
   "cell_type": "code",
   "execution_count": 17,
   "id": "f791b6a2",
   "metadata": {},
   "outputs": [],
   "source": [
    "y_pred = model.predict(x_test)"
   ]
  },
  {
   "cell_type": "code",
   "execution_count": 18,
   "id": "43d3411c",
   "metadata": {},
   "outputs": [],
   "source": [
    "from sklearn.metrics import precision_score,f1_score,recall_score"
   ]
  },
  {
   "cell_type": "code",
   "execution_count": 19,
   "id": "5b8ae3ee",
   "metadata": {},
   "outputs": [
    {
     "name": "stdout",
     "output_type": "stream",
     "text": [
      "Precision: 0.8888888888888888 | recall score: 0.5957446808510638 | f1 score: 0.713375796178344\n"
     ]
    }
   ],
   "source": [
    "print(f\"Precision: {precision_score(y_test,y_pred)} | recall score: {recall_score(y_test,y_pred)} | f1 score: {f1_score(y_test,y_pred)}\")"
   ]
  },
  {
   "cell_type": "code",
   "execution_count": 20,
   "id": "709a2219",
   "metadata": {},
   "outputs": [],
   "source": [
    "from imblearn.over_sampling import SMOTE\n",
    "from imblearn.under_sampling import RandomUnderSampler\n",
    "from sklearn.pipeline import Pipeline\n",
    "from sklearn.metrics import classification_report"
   ]
  },
  {
   "cell_type": "code",
   "execution_count": 21,
   "id": "d11195c5",
   "metadata": {},
   "outputs": [],
   "source": [
    "smote = SMOTE()\n",
    "\n",
    "x_train_sample,y_train_sample = smote.fit_resample(x_train,y_train)"
   ]
  },
  {
   "cell_type": "code",
   "execution_count": 22,
   "id": "b3238eae",
   "metadata": {},
   "outputs": [
    {
     "data": {
      "text/plain": [
       "LogisticRegression(max_iter=1000)"
      ]
     },
     "execution_count": 22,
     "metadata": {},
     "output_type": "execute_result"
    }
   ],
   "source": [
    "model.fit(x_train_sample,y_train_sample)"
   ]
  },
  {
   "cell_type": "code",
   "execution_count": 23,
   "id": "2fcb83d6",
   "metadata": {},
   "outputs": [
    {
     "data": {
      "text/plain": [
       "0.9771075453811313"
      ]
     },
     "execution_count": 23,
     "metadata": {},
     "output_type": "execute_result"
    }
   ],
   "source": [
    "model.score(x_test,y_test)"
   ]
  },
  {
   "cell_type": "code",
   "execution_count": 24,
   "id": "31b4df37",
   "metadata": {},
   "outputs": [],
   "source": [
    "rus = RandomUnderSampler()\n",
    "\n",
    "x_train_sample,y_train_sample = rus.fit_resample(x_train,y_train)"
   ]
  },
  {
   "cell_type": "code",
   "execution_count": 25,
   "id": "58a33ec9",
   "metadata": {},
   "outputs": [
    {
     "data": {
      "text/plain": [
       "LogisticRegression(max_iter=1000)"
      ]
     },
     "execution_count": 25,
     "metadata": {},
     "output_type": "execute_result"
    }
   ],
   "source": [
    "model.fit(x_train_sample,y_train_sample)"
   ]
  },
  {
   "cell_type": "code",
   "execution_count": 26,
   "id": "75100ca1",
   "metadata": {},
   "outputs": [
    {
     "data": {
      "text/plain": [
       "0.9964537762016783"
      ]
     },
     "execution_count": 26,
     "metadata": {},
     "output_type": "execute_result"
    }
   ],
   "source": [
    "model.score(x_test,y_test)"
   ]
  },
  {
   "cell_type": "code",
   "execution_count": 27,
   "id": "e7b6a85a",
   "metadata": {},
   "outputs": [
    {
     "name": "stdout",
     "output_type": "stream",
     "text": [
      "Over sampling:               precision    recall  f1-score   support\n",
      "\n",
      "           0       1.00      1.00      1.00     56868\n",
      "           1       0.89      0.60      0.71        94\n",
      "\n",
      "    accuracy                           1.00     56962\n",
      "   macro avg       0.94      0.80      0.86     56962\n",
      "weighted avg       1.00      1.00      1.00     56962\n",
      "\n",
      "Under sampling:               precision    recall  f1-score   support\n",
      "\n",
      "           0       1.00      1.00      1.00     56868\n",
      "           1       0.89      0.60      0.71        94\n",
      "\n",
      "    accuracy                           1.00     56962\n",
      "   macro avg       0.94      0.80      0.86     56962\n",
      "weighted avg       1.00      1.00      1.00     56962\n",
      "\n"
     ]
    }
   ],
   "source": [
    "print(f\"Over sampling: {classification_report(y_test,y_pred)}\\nUnder sampling: {classification_report(y_test,y_pred)}\")"
   ]
  },
  {
   "cell_type": "code",
   "execution_count": null,
   "id": "5482283f",
   "metadata": {},
   "outputs": [],
   "source": []
  }
 ],
 "metadata": {
  "kernelspec": {
   "display_name": "Python 3 (ipykernel)",
   "language": "python",
   "name": "python3"
  },
  "language_info": {
   "codemirror_mode": {
    "name": "ipython",
    "version": 3
   },
   "file_extension": ".py",
   "mimetype": "text/x-python",
   "name": "python",
   "nbconvert_exporter": "python",
   "pygments_lexer": "ipython3",
   "version": "3.9.13"
  }
 },
 "nbformat": 4,
 "nbformat_minor": 5
}
