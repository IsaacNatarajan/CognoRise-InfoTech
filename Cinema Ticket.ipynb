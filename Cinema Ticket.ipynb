{
 "cells": [
  {
   "cell_type": "code",
   "execution_count": 1,
   "id": "96100efd",
   "metadata": {},
   "outputs": [],
   "source": [
    "import pandas as pd\n",
    "import warnings"
   ]
  },
  {
   "cell_type": "code",
   "execution_count": 2,
   "id": "e02b0c6b",
   "metadata": {},
   "outputs": [],
   "source": [
    "warnings.filterwarnings('ignore',category=FutureWarning)"
   ]
  },
  {
   "cell_type": "code",
   "execution_count": 3,
   "id": "28495cb6",
   "metadata": {},
   "outputs": [
    {
     "data": {
      "text/html": [
       "<div>\n",
       "<style scoped>\n",
       "    .dataframe tbody tr th:only-of-type {\n",
       "        vertical-align: middle;\n",
       "    }\n",
       "\n",
       "    .dataframe tbody tr th {\n",
       "        vertical-align: top;\n",
       "    }\n",
       "\n",
       "    .dataframe thead th {\n",
       "        text-align: right;\n",
       "    }\n",
       "</style>\n",
       "<table border=\"1\" class=\"dataframe\">\n",
       "  <thead>\n",
       "    <tr style=\"text-align: right;\">\n",
       "      <th></th>\n",
       "      <th>film_code</th>\n",
       "      <th>cinema_code</th>\n",
       "      <th>total_sales</th>\n",
       "      <th>tickets_sold</th>\n",
       "      <th>tickets_out</th>\n",
       "      <th>show_time</th>\n",
       "      <th>occu_perc</th>\n",
       "      <th>ticket_price</th>\n",
       "      <th>ticket_use</th>\n",
       "      <th>capacity</th>\n",
       "      <th>date</th>\n",
       "      <th>month</th>\n",
       "      <th>quarter</th>\n",
       "      <th>day</th>\n",
       "    </tr>\n",
       "  </thead>\n",
       "  <tbody>\n",
       "    <tr>\n",
       "      <th>82693</th>\n",
       "      <td>1554</td>\n",
       "      <td>453</td>\n",
       "      <td>9120000</td>\n",
       "      <td>166</td>\n",
       "      <td>0</td>\n",
       "      <td>6</td>\n",
       "      <td>10.06</td>\n",
       "      <td>54939.759036</td>\n",
       "      <td>166</td>\n",
       "      <td>1650.099404</td>\n",
       "      <td>2018-07-14</td>\n",
       "      <td>7</td>\n",
       "      <td>3</td>\n",
       "      <td>14</td>\n",
       "    </tr>\n",
       "    <tr>\n",
       "      <th>11693</th>\n",
       "      <td>1494</td>\n",
       "      <td>516</td>\n",
       "      <td>880000</td>\n",
       "      <td>11</td>\n",
       "      <td>0</td>\n",
       "      <td>1</td>\n",
       "      <td>9.40</td>\n",
       "      <td>80000.000000</td>\n",
       "      <td>11</td>\n",
       "      <td>117.021277</td>\n",
       "      <td>2018-05-14</td>\n",
       "      <td>5</td>\n",
       "      <td>2</td>\n",
       "      <td>14</td>\n",
       "    </tr>\n",
       "    <tr>\n",
       "      <th>136554</th>\n",
       "      <td>1556</td>\n",
       "      <td>362</td>\n",
       "      <td>280000</td>\n",
       "      <td>4</td>\n",
       "      <td>0</td>\n",
       "      <td>4</td>\n",
       "      <td>0.63</td>\n",
       "      <td>70000.000000</td>\n",
       "      <td>4</td>\n",
       "      <td>634.920635</td>\n",
       "      <td>2018-09-24</td>\n",
       "      <td>9</td>\n",
       "      <td>3</td>\n",
       "      <td>24</td>\n",
       "    </tr>\n",
       "    <tr>\n",
       "      <th>127740</th>\n",
       "      <td>1493</td>\n",
       "      <td>362</td>\n",
       "      <td>3465000</td>\n",
       "      <td>58</td>\n",
       "      <td>0</td>\n",
       "      <td>4</td>\n",
       "      <td>9.09</td>\n",
       "      <td>59741.379310</td>\n",
       "      <td>58</td>\n",
       "      <td>638.063806</td>\n",
       "      <td>2018-05-30</td>\n",
       "      <td>5</td>\n",
       "      <td>2</td>\n",
       "      <td>30</td>\n",
       "    </tr>\n",
       "    <tr>\n",
       "      <th>23001</th>\n",
       "      <td>1511</td>\n",
       "      <td>73</td>\n",
       "      <td>9120000</td>\n",
       "      <td>76</td>\n",
       "      <td>0</td>\n",
       "      <td>3</td>\n",
       "      <td>25.85</td>\n",
       "      <td>120000.000000</td>\n",
       "      <td>76</td>\n",
       "      <td>294.003868</td>\n",
       "      <td>2018-07-20</td>\n",
       "      <td>7</td>\n",
       "      <td>3</td>\n",
       "      <td>20</td>\n",
       "    </tr>\n",
       "    <tr>\n",
       "      <th>63466</th>\n",
       "      <td>1553</td>\n",
       "      <td>512</td>\n",
       "      <td>840000</td>\n",
       "      <td>14</td>\n",
       "      <td>0</td>\n",
       "      <td>1</td>\n",
       "      <td>4.43</td>\n",
       "      <td>60000.000000</td>\n",
       "      <td>14</td>\n",
       "      <td>316.027088</td>\n",
       "      <td>2018-10-26</td>\n",
       "      <td>10</td>\n",
       "      <td>4</td>\n",
       "      <td>26</td>\n",
       "    </tr>\n",
       "    <tr>\n",
       "      <th>104028</th>\n",
       "      <td>1485</td>\n",
       "      <td>522</td>\n",
       "      <td>5040000</td>\n",
       "      <td>42</td>\n",
       "      <td>0</td>\n",
       "      <td>5</td>\n",
       "      <td>8.84</td>\n",
       "      <td>120000.000000</td>\n",
       "      <td>42</td>\n",
       "      <td>475.113122</td>\n",
       "      <td>2018-03-14</td>\n",
       "      <td>3</td>\n",
       "      <td>1</td>\n",
       "      <td>14</td>\n",
       "    </tr>\n",
       "    <tr>\n",
       "      <th>69783</th>\n",
       "      <td>1483</td>\n",
       "      <td>88</td>\n",
       "      <td>2500000</td>\n",
       "      <td>26</td>\n",
       "      <td>0</td>\n",
       "      <td>5</td>\n",
       "      <td>1.22</td>\n",
       "      <td>96153.846154</td>\n",
       "      <td>26</td>\n",
       "      <td>2131.147541</td>\n",
       "      <td>2018-04-08</td>\n",
       "      <td>4</td>\n",
       "      <td>2</td>\n",
       "      <td>8</td>\n",
       "    </tr>\n",
       "    <tr>\n",
       "      <th>90057</th>\n",
       "      <td>1554</td>\n",
       "      <td>163</td>\n",
       "      <td>144880000</td>\n",
       "      <td>1111</td>\n",
       "      <td>0</td>\n",
       "      <td>9</td>\n",
       "      <td>34.92</td>\n",
       "      <td>130405.040504</td>\n",
       "      <td>1111</td>\n",
       "      <td>3181.557847</td>\n",
       "      <td>2018-08-15</td>\n",
       "      <td>8</td>\n",
       "      <td>3</td>\n",
       "      <td>15</td>\n",
       "    </tr>\n",
       "    <tr>\n",
       "      <th>30995</th>\n",
       "      <td>1499</td>\n",
       "      <td>238</td>\n",
       "      <td>780000</td>\n",
       "      <td>13</td>\n",
       "      <td>0</td>\n",
       "      <td>3</td>\n",
       "      <td>1.79</td>\n",
       "      <td>60000.000000</td>\n",
       "      <td>13</td>\n",
       "      <td>726.256983</td>\n",
       "      <td>2018-07-29</td>\n",
       "      <td>7</td>\n",
       "      <td>3</td>\n",
       "      <td>29</td>\n",
       "    </tr>\n",
       "  </tbody>\n",
       "</table>\n",
       "</div>"
      ],
      "text/plain": [
       "        film_code  cinema_code  total_sales  tickets_sold  tickets_out  \\\n",
       "82693        1554          453      9120000           166            0   \n",
       "11693        1494          516       880000            11            0   \n",
       "136554       1556          362       280000             4            0   \n",
       "127740       1493          362      3465000            58            0   \n",
       "23001        1511           73      9120000            76            0   \n",
       "63466        1553          512       840000            14            0   \n",
       "104028       1485          522      5040000            42            0   \n",
       "69783        1483           88      2500000            26            0   \n",
       "90057        1554          163    144880000          1111            0   \n",
       "30995        1499          238       780000            13            0   \n",
       "\n",
       "        show_time  occu_perc   ticket_price  ticket_use     capacity  \\\n",
       "82693           6      10.06   54939.759036         166  1650.099404   \n",
       "11693           1       9.40   80000.000000          11   117.021277   \n",
       "136554          4       0.63   70000.000000           4   634.920635   \n",
       "127740          4       9.09   59741.379310          58   638.063806   \n",
       "23001           3      25.85  120000.000000          76   294.003868   \n",
       "63466           1       4.43   60000.000000          14   316.027088   \n",
       "104028          5       8.84  120000.000000          42   475.113122   \n",
       "69783           5       1.22   96153.846154          26  2131.147541   \n",
       "90057           9      34.92  130405.040504        1111  3181.557847   \n",
       "30995           3       1.79   60000.000000          13   726.256983   \n",
       "\n",
       "              date  month  quarter  day  \n",
       "82693   2018-07-14      7        3   14  \n",
       "11693   2018-05-14      5        2   14  \n",
       "136554  2018-09-24      9        3   24  \n",
       "127740  2018-05-30      5        2   30  \n",
       "23001   2018-07-20      7        3   20  \n",
       "63466   2018-10-26     10        4   26  \n",
       "104028  2018-03-14      3        1   14  \n",
       "69783   2018-04-08      4        2    8  \n",
       "90057   2018-08-15      8        3   15  \n",
       "30995   2018-07-29      7        3   29  "
      ]
     },
     "execution_count": 3,
     "metadata": {},
     "output_type": "execute_result"
    }
   ],
   "source": [
    "df = pd.read_csv(r\"C:\\Users\\isaac\\Downloads\\cinemaTicket_Ref.csv\")\n",
    "df.sample(10)"
   ]
  },
  {
   "cell_type": "code",
   "execution_count": 4,
   "id": "d2b0bcd4",
   "metadata": {},
   "outputs": [
    {
     "data": {
      "text/plain": [
       "film_code         0\n",
       "cinema_code       0\n",
       "total_sales       0\n",
       "tickets_sold      0\n",
       "tickets_out       0\n",
       "show_time         0\n",
       "occu_perc       125\n",
       "ticket_price      0\n",
       "ticket_use        0\n",
       "capacity        125\n",
       "date              0\n",
       "month             0\n",
       "quarter           0\n",
       "day               0\n",
       "dtype: int64"
      ]
     },
     "execution_count": 4,
     "metadata": {},
     "output_type": "execute_result"
    }
   ],
   "source": [
    "df.isnull().sum()"
   ]
  },
  {
   "cell_type": "code",
   "execution_count": 5,
   "id": "dc2f271d",
   "metadata": {},
   "outputs": [
    {
     "data": {
      "text/plain": [
       "array([ 4.26,  8.08, 20.  , ..., 94.49, 52.54, 53.07])"
      ]
     },
     "execution_count": 5,
     "metadata": {},
     "output_type": "execute_result"
    }
   ],
   "source": [
    "df['occu_perc'].unique()"
   ]
  },
  {
   "cell_type": "code",
   "execution_count": 6,
   "id": "b5e68993",
   "metadata": {},
   "outputs": [
    {
     "data": {
      "text/plain": [
       "array([610.3286385 , 519.8019802 , 160.        , ..., 797.90712884,\n",
       "       150.99009901, 190.9854851 ])"
      ]
     },
     "execution_count": 6,
     "metadata": {},
     "output_type": "execute_result"
    }
   ],
   "source": [
    "df['capacity'].unique()"
   ]
  },
  {
   "cell_type": "code",
   "execution_count": 7,
   "id": "0049606f",
   "metadata": {},
   "outputs": [
    {
     "name": "stdout",
     "output_type": "stream",
     "text": [
      "<class 'pandas.core.frame.DataFrame'>\n",
      "RangeIndex: 142524 entries, 0 to 142523\n",
      "Data columns (total 14 columns):\n",
      " #   Column        Non-Null Count   Dtype  \n",
      "---  ------        --------------   -----  \n",
      " 0   film_code     142524 non-null  int64  \n",
      " 1   cinema_code   142524 non-null  int64  \n",
      " 2   total_sales   142524 non-null  int64  \n",
      " 3   tickets_sold  142524 non-null  int64  \n",
      " 4   tickets_out   142524 non-null  int64  \n",
      " 5   show_time     142524 non-null  int64  \n",
      " 6   occu_perc     142399 non-null  float64\n",
      " 7   ticket_price  142524 non-null  float64\n",
      " 8   ticket_use    142524 non-null  int64  \n",
      " 9   capacity      142399 non-null  float64\n",
      " 10  date          142524 non-null  object \n",
      " 11  month         142524 non-null  int64  \n",
      " 12  quarter       142524 non-null  int64  \n",
      " 13  day           142524 non-null  int64  \n",
      "dtypes: float64(3), int64(10), object(1)\n",
      "memory usage: 15.2+ MB\n"
     ]
    }
   ],
   "source": [
    "df.info()"
   ]
  },
  {
   "cell_type": "code",
   "execution_count": 8,
   "id": "e60a9b87",
   "metadata": {},
   "outputs": [],
   "source": [
    "df.dropna(inplace=True)"
   ]
  },
  {
   "cell_type": "code",
   "execution_count": 9,
   "id": "61d75f91",
   "metadata": {},
   "outputs": [
    {
     "data": {
      "text/plain": [
       "film_code       0\n",
       "cinema_code     0\n",
       "total_sales     0\n",
       "tickets_sold    0\n",
       "tickets_out     0\n",
       "show_time       0\n",
       "occu_perc       0\n",
       "ticket_price    0\n",
       "ticket_use      0\n",
       "capacity        0\n",
       "date            0\n",
       "month           0\n",
       "quarter         0\n",
       "day             0\n",
       "dtype: int64"
      ]
     },
     "execution_count": 9,
     "metadata": {},
     "output_type": "execute_result"
    }
   ],
   "source": [
    "df.isnull().sum()"
   ]
  },
  {
   "cell_type": "code",
   "execution_count": 10,
   "id": "2fbcdbd5",
   "metadata": {},
   "outputs": [],
   "source": [
    "new_df = df.drop(['film_code','cinema_code','date'],axis='columns')"
   ]
  },
  {
   "cell_type": "code",
   "execution_count": 11,
   "id": "5754ff78",
   "metadata": {
    "scrolled": true
   },
   "outputs": [],
   "source": [
    "x=new_df.drop('total_sales',axis='columns')\n",
    "y=new_df['total_sales']"
   ]
  },
  {
   "cell_type": "code",
   "execution_count": 12,
   "id": "0d81b601",
   "metadata": {},
   "outputs": [
    {
     "name": "stderr",
     "output_type": "stream",
     "text": [
      "C:\\Users\\isaac\\anaconda3\\lib\\site-packages\\scipy\\__init__.py:155: UserWarning: A NumPy version >=1.18.5 and <1.25.0 is required for this version of SciPy (detected version 1.26.3\n",
      "  warnings.warn(f\"A NumPy version >={np_minversion} and <{np_maxversion}\"\n"
     ]
    }
   ],
   "source": [
    "from sklearn.preprocessing import StandardScaler,MinMaxScaler\n",
    "\n",
    "minmax = MinMaxScaler()\n",
    "scaler = StandardScaler()\n",
    "x_minmax = minmax.fit_transform(x)\n",
    "x_scaler = scaler.fit_transform(x_minmax)"
   ]
  },
  {
   "cell_type": "code",
   "execution_count": 13,
   "id": "dfb15f65",
   "metadata": {},
   "outputs": [],
   "source": [
    "from sklearn.model_selection import train_test_split\n",
    "\n",
    "x_train,x_test,y_train,y_test = train_test_split(x_scaler,y,test_size=0.2,random_state=42)"
   ]
  },
  {
   "cell_type": "code",
   "execution_count": 14,
   "id": "be67df3e",
   "metadata": {},
   "outputs": [],
   "source": [
    "from sklearn.linear_model import LinearRegression,Lasso,Ridge"
   ]
  },
  {
   "cell_type": "code",
   "execution_count": 15,
   "id": "eeb41a6f",
   "metadata": {},
   "outputs": [],
   "source": [
    "model = LinearRegression()"
   ]
  },
  {
   "cell_type": "code",
   "execution_count": 16,
   "id": "254db35f",
   "metadata": {},
   "outputs": [
    {
     "data": {
      "text/plain": [
       "LinearRegression()"
      ]
     },
     "execution_count": 16,
     "metadata": {},
     "output_type": "execute_result"
    }
   ],
   "source": [
    "model.fit(x_train,y_train)"
   ]
  },
  {
   "cell_type": "code",
   "execution_count": 17,
   "id": "b3028fac",
   "metadata": {},
   "outputs": [
    {
     "data": {
      "text/plain": [
       "0.8703718926292011"
      ]
     },
     "execution_count": 17,
     "metadata": {},
     "output_type": "execute_result"
    }
   ],
   "source": [
    "model.score(x_test,y_test)"
   ]
  },
  {
   "cell_type": "code",
   "execution_count": 18,
   "id": "40c85612",
   "metadata": {},
   "outputs": [
    {
     "data": {
      "text/plain": [
       "Lasso(alpha=0.01)"
      ]
     },
     "execution_count": 18,
     "metadata": {},
     "output_type": "execute_result"
    }
   ],
   "source": [
    "la = Lasso(alpha=0.01)\n",
    "la.fit(x_train,y_train)"
   ]
  },
  {
   "cell_type": "code",
   "execution_count": 19,
   "id": "44d44aa9",
   "metadata": {},
   "outputs": [
    {
     "data": {
      "text/plain": [
       "0.8703918294794379"
      ]
     },
     "execution_count": 19,
     "metadata": {},
     "output_type": "execute_result"
    }
   ],
   "source": [
    "la.score(x_test,y_test)"
   ]
  },
  {
   "cell_type": "code",
   "execution_count": 20,
   "id": "197e0cd3",
   "metadata": {},
   "outputs": [
    {
     "data": {
      "text/plain": [
       "Ridge(alpha=0.01)"
      ]
     },
     "execution_count": 20,
     "metadata": {},
     "output_type": "execute_result"
    }
   ],
   "source": [
    "ri=Ridge(alpha=0.01)\n",
    "ri.fit(x_train,y_train)"
   ]
  },
  {
   "cell_type": "code",
   "execution_count": 21,
   "id": "0fa7cda7",
   "metadata": {},
   "outputs": [
    {
     "data": {
      "text/plain": [
       "0.8703918332808627"
      ]
     },
     "execution_count": 21,
     "metadata": {},
     "output_type": "execute_result"
    }
   ],
   "source": [
    "ri.score(x_test,y_test)"
   ]
  },
  {
   "cell_type": "code",
   "execution_count": null,
   "id": "5880476a",
   "metadata": {},
   "outputs": [],
   "source": []
  }
 ],
 "metadata": {
  "kernelspec": {
   "display_name": "Python 3 (ipykernel)",
   "language": "python",
   "name": "python3"
  },
  "language_info": {
   "codemirror_mode": {
    "name": "ipython",
    "version": 3
   },
   "file_extension": ".py",
   "mimetype": "text/x-python",
   "name": "python",
   "nbconvert_exporter": "python",
   "pygments_lexer": "ipython3",
   "version": "3.9.13"
  }
 },
 "nbformat": 4,
 "nbformat_minor": 5
}
